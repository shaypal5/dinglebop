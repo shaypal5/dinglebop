{
 "cells": [
  {
   "cell_type": "code",
   "execution_count": 1,
   "metadata": {},
   "outputs": [],
   "source": [
    "import shleem"
   ]
  },
  {
   "cell_type": "code",
   "execution_count": 2,
   "metadata": {},
   "outputs": [],
   "source": [
    "import dinglebop as dp"
   ]
  },
  {
   "cell_type": "code",
   "execution_count": 3,
   "metadata": {},
   "outputs": [],
   "source": [
    "dinglebop_test_server = shleem.mongodb.server('dinglebop_test_server')"
   ]
  },
  {
   "cell_type": "code",
   "execution_count": 4,
   "metadata": {},
   "outputs": [],
   "source": [
    "dinglebop_test = dinglebop_test_server['dinglebop_test']"
   ]
  },
  {
   "cell_type": "code",
   "execution_count": 5,
   "metadata": {},
   "outputs": [],
   "source": [
    "example_datasource = dinglebop_test['example_datasource']"
   ]
  },
  {
   "cell_type": "code",
   "execution_count": 6,
   "metadata": {},
   "outputs": [
    {
     "data": {
      "text/plain": [
       "MongoDB query DataSource: dinglebop_test_server.dinglebop_test.example_datasource.queens_restaurants"
      ]
     },
     "execution_count": 6,
     "metadata": {},
     "output_type": "execute_result"
    }
   ],
   "source": [
    "queens_restaurants = example_datasource.query({\"borough\": \"Queens\"}, identifier='queens_restaurants')\n",
    "queens_restaurants"
   ]
  },
  {
   "cell_type": "code",
   "execution_count": 7,
   "metadata": {},
   "outputs": [
    {
     "data": {
      "text/plain": [
       "\u001b[0;31mSignature:\u001b[0m \u001b[0mdp\u001b[0m\u001b[0;34m.\u001b[0m\u001b[0mdataset\u001b[0m\u001b[0;34m.\u001b[0m\u001b[0mtabular\u001b[0m\u001b[0;34m.\u001b[0m\u001b[0mfrom_mongodb_tap\u001b[0m\u001b[0;34m(\u001b[0m\u001b[0mdatatap\u001b[0m\u001b[0;34m,\u001b[0m \u001b[0midentifier\u001b[0m\u001b[0;34m=\u001b[0m\u001b[0;32mNone\u001b[0m\u001b[0;34m,\u001b[0m \u001b[0mfieldnames\u001b[0m\u001b[0;34m=\u001b[0m\u001b[0;32mNone\u001b[0m\u001b[0;34m,\u001b[0m \u001b[0mflatten\u001b[0m\u001b[0;34m=\u001b[0m\u001b[0;32mFalse\u001b[0m\u001b[0;34m,\u001b[0m \u001b[0mmissing_val\u001b[0m\u001b[0;34m=\u001b[0m\u001b[0;32mNone\u001b[0m\u001b[0;34m)\u001b[0m\u001b[0;34m\u001b[0m\u001b[0m\n",
       "\u001b[0;31mDocstring:\u001b[0m\n",
       "Creates a tabular dataset from a MongoDB data tap.\n",
       "\n",
       "Arguments\n",
       "---------\n",
       "datatap : shleem.MongoDBQuery or shleem.MongoDBAggregation\n",
       "    A MongoDB-based shleem data tap.\n",
       "identifier : str, optional\n",
       "    A string identifier for this dataset, preferrably containing only\n",
       "    lowercase letters, numbers and underscores.\n",
       "fieldnames : list, optional\n",
       "    A list of of field names to keep from the source documents. If not\n",
       "    given, field names are inferred from the first yielded document.\n",
       "flatten : bool, optional\n",
       "    If True, sub-dicts and lists in documents are flattened. Defaults\n",
       "    to False. Notice that if this option is set, field names should be\n",
       "    given in a flattened format, such as 'a.b' for {'a': {'b': 0}} or\n",
       "    'a.0' for {'a': [36]}.\n",
       "missing_val : object, optional\n",
       "    The object used to denote missing values in entries. If not given,\n",
       "    None is used (to gain the benefits of pandas upcasting it as\n",
       "    needed).\n",
       "\u001b[0;31mFile:\u001b[0m      ~/clones/dinglebop/dinglebop/dataset/tabular/dictiterator.py\n",
       "\u001b[0;31mType:\u001b[0m      function\n"
      ]
     },
     "metadata": {},
     "output_type": "display_data"
    }
   ],
   "source": [
    "dp.dataset.tabular.from_mongodb_tap?"
   ]
  },
  {
   "cell_type": "code",
   "execution_count": 8,
   "metadata": {},
   "outputs": [],
   "source": [
    "fieldnames = ['address.street', 'address.building', 'borough', 'cuisine', 'name']"
   ]
  },
  {
   "cell_type": "code",
   "execution_count": 9,
   "metadata": {},
   "outputs": [
    {
     "data": {
      "text/plain": [
       "DataSet: dinglebop_test_server.dinglebop_test.example_datasource.queens_restaurants.basic_flat_queens_restaurants"
      ]
     },
     "execution_count": 9,
     "metadata": {},
     "output_type": "execute_result"
    }
   ],
   "source": [
    "basic_flat_queens_restaurants = dp.dataset.tabular.from_mongodb_tap(queens_restaurants, identifier='basic_flat_queens_restaurants', fieldnames=fieldnames, flatten=True)\n",
    "basic_flat_queens_restaurants"
   ]
  },
  {
   "cell_type": "code",
   "execution_count": 10,
   "metadata": {},
   "outputs": [],
   "source": [
    "gene = basic_flat_queens_restaurants.tap()"
   ]
  },
  {
   "cell_type": "code",
   "execution_count": 11,
   "metadata": {},
   "outputs": [
    {
     "data": {
      "text/plain": [
       "{'address.building': '8825',\n",
       " 'address.street': 'Astoria Boulevard',\n",
       " 'borough': 'Queens',\n",
       " 'cuisine': 'American',\n",
       " 'name': 'Brunos On The Boulevard'}"
      ]
     },
     "execution_count": 11,
     "metadata": {},
     "output_type": "execute_result"
    }
   ],
   "source": [
    "gene.__next__()"
   ]
  },
  {
   "cell_type": "markdown",
   "metadata": {},
   "source": [
    "### Aggregation"
   ]
  },
  {
   "cell_type": "code",
   "execution_count": 24,
   "metadata": {},
   "outputs": [],
   "source": [
    "agg_pipeline = [\n",
    "    {'$group': {'_id': '$borough', 'count': {'$sum': 1}}},\n",
    "    {'$project': {'borough': '$_id', 'count': 1, '_id': 0}}\n",
    "]"
   ]
  },
  {
   "cell_type": "code",
   "execution_count": 25,
   "metadata": {},
   "outputs": [
    {
     "data": {
      "text/plain": [
       "MongoDB aggregation DataSource: dinglebop_test_server.dinglebop_test.example_datasource.borough_counts"
      ]
     },
     "execution_count": 25,
     "metadata": {},
     "output_type": "execute_result"
    }
   ],
   "source": [
    "borough_counts = example_datasource.aggregation(agg_pipeline, identifier='borough_counts')\n",
    "borough_counts"
   ]
  },
  {
   "cell_type": "code",
   "execution_count": 26,
   "metadata": {},
   "outputs": [
    {
     "data": {
      "text/plain": [
       "{'borough': 'Missing', 'count': 51}"
      ]
     },
     "execution_count": 26,
     "metadata": {},
     "output_type": "execute_result"
    }
   ],
   "source": [
    "borough_counts.tap().__next__()"
   ]
  },
  {
   "cell_type": "code",
   "execution_count": 29,
   "metadata": {},
   "outputs": [
    {
     "data": {
      "text/plain": [
       "DataSet: dinglebop_test_server.dinglebop_test.example_datasource.borough_counts.borough_counts_table"
      ]
     },
     "execution_count": 29,
     "metadata": {},
     "output_type": "execute_result"
    }
   ],
   "source": [
    "borough_counts_table = dp.dataset.tabular.from_mongodb_tap(borough_counts, identifier='borough_counts_table')\n",
    "borough_counts_table"
   ]
  },
  {
   "cell_type": "code",
   "execution_count": 30,
   "metadata": {},
   "outputs": [
    {
     "data": {
      "text/html": [
       "<div>\n",
       "<style>\n",
       "    .dataframe thead tr:only-child th {\n",
       "        text-align: right;\n",
       "    }\n",
       "\n",
       "    .dataframe thead th {\n",
       "        text-align: left;\n",
       "    }\n",
       "\n",
       "    .dataframe tbody tr th {\n",
       "        vertical-align: top;\n",
       "    }\n",
       "</style>\n",
       "<table border=\"1\" class=\"dataframe\">\n",
       "  <thead>\n",
       "    <tr style=\"text-align: right;\">\n",
       "      <th></th>\n",
       "      <th>count</th>\n",
       "      <th>borough</th>\n",
       "    </tr>\n",
       "  </thead>\n",
       "  <tbody>\n",
       "    <tr>\n",
       "      <th>0</th>\n",
       "      <td>51</td>\n",
       "      <td>Missing</td>\n",
       "    </tr>\n",
       "    <tr>\n",
       "      <th>1</th>\n",
       "      <td>6086</td>\n",
       "      <td>Brooklyn</td>\n",
       "    </tr>\n",
       "    <tr>\n",
       "      <th>2</th>\n",
       "      <td>5656</td>\n",
       "      <td>Queens</td>\n",
       "    </tr>\n",
       "    <tr>\n",
       "      <th>3</th>\n",
       "      <td>2338</td>\n",
       "      <td>Bronx</td>\n",
       "    </tr>\n",
       "    <tr>\n",
       "      <th>4</th>\n",
       "      <td>10259</td>\n",
       "      <td>Manhattan</td>\n",
       "    </tr>\n",
       "    <tr>\n",
       "      <th>5</th>\n",
       "      <td>969</td>\n",
       "      <td>Staten Island</td>\n",
       "    </tr>\n",
       "  </tbody>\n",
       "</table>\n",
       "</div>"
      ],
      "text/plain": [
       "   count        borough\n",
       "0     51        Missing\n",
       "1   6086       Brooklyn\n",
       "2   5656         Queens\n",
       "3   2338          Bronx\n",
       "4  10259      Manhattan\n",
       "5    969  Staten Island"
      ]
     },
     "execution_count": 30,
     "metadata": {},
     "output_type": "execute_result"
    }
   ],
   "source": [
    "borough_counts_table.as_dataframe()"
   ]
  },
  {
   "cell_type": "code",
   "execution_count": 31,
   "metadata": {},
   "outputs": [
    {
     "data": {
      "text/plain": [
       "array([[51, 'Missing'],\n",
       "       [6086, 'Brooklyn'],\n",
       "       [5656, 'Queens'],\n",
       "       [2338, 'Bronx'],\n",
       "       [10259, 'Manhattan'],\n",
       "       [969, 'Staten Island']], dtype=object)"
      ]
     },
     "execution_count": 31,
     "metadata": {},
     "output_type": "execute_result"
    }
   ],
   "source": [
    "borough_counts_table.as_ndarray()"
   ]
  },
  {
   "cell_type": "code",
   "execution_count": 32,
   "metadata": {},
   "outputs": [
    {
     "name": "stdout",
     "output_type": "stream",
     "text": [
      "{'count': 51, 'borough': 'Missing'}\n",
      "{'count': 6086, 'borough': 'Brooklyn'}\n",
      "{'count': 5656, 'borough': 'Queens'}\n",
      "{'count': 2338, 'borough': 'Bronx'}\n",
      "{'count': 10259, 'borough': 'Manhattan'}\n",
      "{'count': 969, 'borough': 'Staten Island'}\n"
     ]
    }
   ],
   "source": [
    "for item in borough_counts_table.as_dict_iter():\n",
    "    print(item)"
   ]
  },
  {
   "cell_type": "code",
   "execution_count": null,
   "metadata": {},
   "outputs": [],
   "source": []
  }
 ],
 "metadata": {
  "kernelspec": {
   "display_name": "Python 3",
   "language": "python",
   "name": "python3"
  },
  "language_info": {
   "codemirror_mode": {
    "name": "ipython",
    "version": 3
   },
   "file_extension": ".py",
   "mimetype": "text/x-python",
   "name": "python",
   "nbconvert_exporter": "python",
   "pygments_lexer": "ipython3",
   "version": "3.6.2"
  }
 },
 "nbformat": 4,
 "nbformat_minor": 2
}
