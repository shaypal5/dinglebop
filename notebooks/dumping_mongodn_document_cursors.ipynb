{
 "cells": [
  {
   "cell_type": "code",
   "execution_count": 19,
   "metadata": {},
   "outputs": [],
   "source": [
    "import shleem"
   ]
  },
  {
   "cell_type": "code",
   "execution_count": 20,
   "metadata": {},
   "outputs": [],
   "source": [
    "shleem_test_server = shleem.mongodb.server(\"shleem_test_server\")"
   ]
  },
  {
   "cell_type": "code",
   "execution_count": 21,
   "metadata": {},
   "outputs": [],
   "source": [
    "client = shleem_test_server._get_connection()"
   ]
  },
  {
   "cell_type": "code",
   "execution_count": 22,
   "metadata": {},
   "outputs": [],
   "source": [
    "example_data_col = client['shleem_test']['example_data_collection']"
   ]
  },
  {
   "cell_type": "code",
   "execution_count": 23,
   "metadata": {},
   "outputs": [],
   "source": [
    "from bson.objectid import ObjectId"
   ]
  },
  {
   "cell_type": "code",
   "execution_count": 24,
   "metadata": {},
   "outputs": [],
   "source": [
    "doc_with_subdocs = example_data_col.find_one({'_id': ObjectId(\"59e8a02a297efbb3162667f1\")})"
   ]
  },
  {
   "cell_type": "code",
   "execution_count": 25,
   "metadata": {},
   "outputs": [],
   "source": [
    "# doc_with_subdocs"
   ]
  },
  {
   "cell_type": "code",
   "execution_count": 26,
   "metadata": {},
   "outputs": [],
   "source": [
    "# sorted(list(doc_with_subdocs.keys()))"
   ]
  },
  {
   "cell_type": "code",
   "execution_count": 27,
   "metadata": {},
   "outputs": [],
   "source": [
    "import csv"
   ]
  },
  {
   "cell_type": "code",
   "execution_count": 28,
   "metadata": {},
   "outputs": [],
   "source": [
    "from strct.dicts import flatten_dict"
   ]
  },
  {
   "cell_type": "code",
   "execution_count": 29,
   "metadata": {},
   "outputs": [],
   "source": [
    "with open('test_dump.csv', 'w+') as dump_csv:\n",
    "    fieldnames = sorted(list(flatten_dict(doc_with_subdocs).keys()))\n",
    "    writer = csv.DictWriter(dump_csv, fieldnames=fieldnames)\n",
    "    writer.writeheader()\n",
    "    writer.writerow(flatten_dict(doc_with_subdocs))"
   ]
  },
  {
   "cell_type": "markdown",
   "metadata": {},
   "source": [
    "## Dump to json"
   ]
  },
  {
   "cell_type": "code",
   "execution_count": 35,
   "metadata": {},
   "outputs": [],
   "source": [
    "from bson.json_util import (\n",
    "    dumps, \n",
    "    loads,\n",
    ")"
   ]
  },
  {
   "cell_type": "code",
   "execution_count": 31,
   "metadata": {},
   "outputs": [
    {
     "data": {
      "text/plain": [
       "'{\"_id\": {\"$oid\": \"59e8a02a297efbb3162667f1\"}, \"address\": {\"building\": \"469\", \"coord\": [-73.961704, 40.662942], \"street\": \"Flatbush Avenue\", \"zipcode\": \"11225\"}, \"borough\": \"Brooklyn\", \"cuisine\": \"Hamburgers\", \"grades\": [{\"date\": {\"$date\": 1419897600000}, \"grade\": \"A\", \"score\": 8}, {\"date\": {\"$date\": 1404172800000}, \"grade\": \"B\", \"score\": 23}, {\"date\": {\"$date\": 1367280000000}, \"grade\": \"A\", \"score\": 12}, {\"date\": {\"$date\": 1336435200000}, \"grade\": \"A\", \"score\": 12}], \"name\": \"Wendy\\'S\", \"restaurant_id\": \"30112340\"}'"
      ]
     },
     "execution_count": 31,
     "metadata": {},
     "output_type": "execute_result"
    }
   ],
   "source": [
    "dumps(doc_with_subdocs)"
   ]
  },
  {
   "cell_type": "code",
   "execution_count": 45,
   "metadata": {},
   "outputs": [],
   "source": [
    "with open('test_single_dump.json', 'w+') as dump_json:\n",
    "    dump_json.write('[\\n')\n",
    "    dump_json.write(dumps(doc_with_subdocs))\n",
    "    dump_json.write('\\n]')"
   ]
  },
  {
   "cell_type": "code",
   "execution_count": 46,
   "metadata": {},
   "outputs": [
    {
     "name": "stdout",
     "output_type": "stream",
     "text": [
      "[{'_id': ObjectId('59e8a02a297efbb3162667f1'), 'address': {'building': '469', 'coord': [-73.961704, 40.662942], 'street': 'Flatbush Avenue', 'zipcode': '11225'}, 'borough': 'Brooklyn', 'cuisine': 'Hamburgers', 'grades': [{'date': datetime.datetime(2014, 12, 30, 0, 0, tzinfo=<bson.tz_util.FixedOffset object at 0x105ae1be0>), 'grade': 'A', 'score': 8}, {'date': datetime.datetime(2014, 7, 1, 0, 0, tzinfo=<bson.tz_util.FixedOffset object at 0x105ae1be0>), 'grade': 'B', 'score': 23}, {'date': datetime.datetime(2013, 4, 30, 0, 0, tzinfo=<bson.tz_util.FixedOffset object at 0x105ae1be0>), 'grade': 'A', 'score': 12}, {'date': datetime.datetime(2012, 5, 8, 0, 0, tzinfo=<bson.tz_util.FixedOffset object at 0x105ae1be0>), 'grade': 'A', 'score': 12}], 'name': \"Wendy'S\", 'restaurant_id': '30112340'}]\n"
     ]
    }
   ],
   "source": [
    "with open('test_single_dump.json', 'r') as dump_json:\n",
    "    result = loads(dump_json.read())\n",
    "    print(result)"
   ]
  },
  {
   "cell_type": "code",
   "execution_count": 40,
   "metadata": {},
   "outputs": [
    {
     "data": {
      "text/plain": [
       "{'_id': ObjectId('59e8a02a297efbb3162667f1'),\n",
       " 'address': {'building': '469',\n",
       "  'coord': [-73.961704, 40.662942],\n",
       "  'street': 'Flatbush Avenue',\n",
       "  'zipcode': '11225'},\n",
       " 'borough': 'Brooklyn',\n",
       " 'cuisine': 'Hamburgers',\n",
       " 'grades': [{'date': datetime.datetime(2014, 12, 30, 0, 0, tzinfo=<bson.tz_util.FixedOffset object at 0x105ae1be0>),\n",
       "   'grade': 'A',\n",
       "   'score': 8},\n",
       "  {'date': datetime.datetime(2014, 7, 1, 0, 0, tzinfo=<bson.tz_util.FixedOffset object at 0x105ae1be0>),\n",
       "   'grade': 'B',\n",
       "   'score': 23},\n",
       "  {'date': datetime.datetime(2013, 4, 30, 0, 0, tzinfo=<bson.tz_util.FixedOffset object at 0x105ae1be0>),\n",
       "   'grade': 'A',\n",
       "   'score': 12},\n",
       "  {'date': datetime.datetime(2012, 5, 8, 0, 0, tzinfo=<bson.tz_util.FixedOffset object at 0x105ae1be0>),\n",
       "   'grade': 'A',\n",
       "   'score': 12}],\n",
       " 'name': \"Wendy'S\",\n",
       " 'restaurant_id': '30112340'}"
      ]
     },
     "execution_count": 40,
     "metadata": {},
     "output_type": "execute_result"
    }
   ],
   "source": [
    "result[0]"
   ]
  },
  {
   "cell_type": "markdown",
   "metadata": {},
   "source": [
    "## Cursor probing"
   ]
  },
  {
   "cell_type": "code",
   "execution_count": 13,
   "metadata": {},
   "outputs": [],
   "source": [
    "some_3_docs = example_data_col.find({\n",
    "    '_id': {'$in': [\n",
    "        ObjectId(\"59e8a02a297efbb3162667f1\"), ObjectId(\"59e8a02a297efbb3162667f2\"), \n",
    "        ObjectId(\"59e8a02a297efbb3162667f3\")\n",
    "    ]}\n",
    "})"
   ]
  },
  {
   "cell_type": "code",
   "execution_count": 76,
   "metadata": {},
   "outputs": [
    {
     "data": {
      "text/plain": [
       "dict"
      ]
     },
     "execution_count": 76,
     "metadata": {},
     "output_type": "execute_result"
    }
   ],
   "source": [
    "type(first_doc)"
   ]
  },
  {
   "cell_type": "code",
   "execution_count": 14,
   "metadata": {},
   "outputs": [
    {
     "name": "stdout",
     "output_type": "stream",
     "text": [
      "(0, ObjectId('59e8a02a297efbb3162667f1'))\n"
     ]
    }
   ],
   "source": [
    "first_doc = some_3_docs.next()\n",
    "print((0, first_doc['_id']))"
   ]
  },
  {
   "cell_type": "code",
   "execution_count": 15,
   "metadata": {},
   "outputs": [
    {
     "name": "stdout",
     "output_type": "stream",
     "text": [
      "(0, ObjectId('59e8a02a297efbb3162667f2'))\n",
      "(1, ObjectId('59e8a02a297efbb3162667f3'))\n"
     ]
    }
   ],
   "source": [
    "for i, doc in enumerate(some_3_docs):\n",
    "    print((i, doc['_id']))"
   ]
  },
  {
   "cell_type": "code",
   "execution_count": 71,
   "metadata": {},
   "outputs": [],
   "source": [
    "some_3_docs = example_data_col.find({\n",
    "    '_id': {'$in': [\n",
    "        ObjectId(\"59e8a02a297efbb3162667f1\"), ObjectId(\"59e8a02a297efbb3162667f2\"), \n",
    "        ObjectId(\"59e8a02a297efbb3162667f3\")\n",
    "    ]}\n",
    "})"
   ]
  },
  {
   "cell_type": "code",
   "execution_count": 72,
   "metadata": {},
   "outputs": [],
   "source": [
    "file_path = 'test_multiple_dump.json'"
   ]
  },
  {
   "cell_type": "code",
   "execution_count": 73,
   "metadata": {},
   "outputs": [],
   "source": [
    "doc_cursor = some_3_docs"
   ]
  },
  {
   "cell_type": "code",
   "execution_count": 74,
   "metadata": {},
   "outputs": [],
   "source": [
    "with open(file_path, 'w+') as dump_json:\n",
    "    dump_json.write('[\\n')\n",
    "    dump_json.write(dumps(doc_cursor.next()))\n",
    "    for doc in doc_cursor:\n",
    "        dump_json.write(',\\n')\n",
    "        dump_json.write(dumps(doc))\n",
    "    dump_json.write('\\n]')"
   ]
  },
  {
   "cell_type": "code",
   "execution_count": 83,
   "metadata": {},
   "outputs": [],
   "source": [
    "from json import JSONDecodeError"
   ]
  },
  {
   "cell_type": "code",
   "execution_count": 86,
   "metadata": {},
   "outputs": [
    {
     "name": "stdout",
     "output_type": "stream",
     "text": [
      "{'_id': ObjectId('59e8a02a297efbb3162667f1'), 'address': {'building': '469', 'coord': [-73.961704, 40.662942], 'street': 'Flatbush Avenue', 'zipcode': '11225'}, 'borough': 'Brooklyn', 'cuisine': 'Hamburgers', 'grades': [{'date': datetime.datetime(2014, 12, 30, 0, 0, tzinfo=<bson.tz_util.FixedOffset object at 0x105ae1be0>), 'grade': 'A', 'score': 8}, {'date': datetime.datetime(2014, 7, 1, 0, 0, tzinfo=<bson.tz_util.FixedOffset object at 0x105ae1be0>), 'grade': 'B', 'score': 23}, {'date': datetime.datetime(2013, 4, 30, 0, 0, tzinfo=<bson.tz_util.FixedOffset object at 0x105ae1be0>), 'grade': 'A', 'score': 12}, {'date': datetime.datetime(2012, 5, 8, 0, 0, tzinfo=<bson.tz_util.FixedOffset object at 0x105ae1be0>), 'grade': 'A', 'score': 12}], 'name': \"Wendy'S\", 'restaurant_id': '30112340'}\n",
      "{'_id': ObjectId('59e8a02a297efbb3162667f2'), 'address': {'building': '2780', 'coord': [-73.98241999999999, 40.579505], 'street': 'Stillwell Avenue', 'zipcode': '11224'}, 'borough': 'Brooklyn', 'cuisine': 'American', 'grades': [{'date': datetime.datetime(2014, 6, 10, 0, 0, tzinfo=<bson.tz_util.FixedOffset object at 0x105ae1be0>), 'grade': 'A', 'score': 5}, {'date': datetime.datetime(2013, 6, 5, 0, 0, tzinfo=<bson.tz_util.FixedOffset object at 0x105ae1be0>), 'grade': 'A', 'score': 7}, {'date': datetime.datetime(2012, 4, 13, 0, 0, tzinfo=<bson.tz_util.FixedOffset object at 0x105ae1be0>), 'grade': 'A', 'score': 12}, {'date': datetime.datetime(2011, 10, 12, 0, 0, tzinfo=<bson.tz_util.FixedOffset object at 0x105ae1be0>), 'grade': 'A', 'score': 12}], 'name': 'Riviera Caterer', 'restaurant_id': '40356018'}\n",
      "{'_id': ObjectId('59e8a02a297efbb3162667f3'), 'address': {'building': '97-22', 'coord': [-73.8601152, 40.7311739], 'street': '63 Road', 'zipcode': '11374'}, 'borough': 'Queens', 'cuisine': 'Jewish/Kosher', 'grades': [{'date': datetime.datetime(2014, 11, 24, 0, 0, tzinfo=<bson.tz_util.FixedOffset object at 0x105ae1be0>), 'grade': 'Z', 'score': 20}, {'date': datetime.datetime(2013, 1, 17, 0, 0, tzinfo=<bson.tz_util.FixedOffset object at 0x105ae1be0>), 'grade': 'A', 'score': 13}, {'date': datetime.datetime(2012, 8, 2, 0, 0, tzinfo=<bson.tz_util.FixedOffset object at 0x105ae1be0>), 'grade': 'A', 'score': 13}, {'date': datetime.datetime(2011, 12, 15, 0, 0, tzinfo=<bson.tz_util.FixedOffset object at 0x105ae1be0>), 'grade': 'B', 'score': 25}], 'name': 'Tov Kosher Kitchen', 'restaurant_id': '40356068'}\n"
     ]
    }
   ],
   "source": [
    "with open(file_path, 'r') as load_json:\n",
    "    line = load_json.readline()\n",
    "    while line:\n",
    "        if line not in ('[\\n', ']'):  # ignore start and end of array\n",
    "            try:  # skip trailing , and one \\n\n",
    "                print(loads(line[:-2]))\n",
    "            except JSONDecodeError:  # last line has no , so just \\n\n",
    "              print(loads(line[:-1]))  \n",
    "        line = load_json.readline()"
   ]
  },
  {
   "cell_type": "markdown",
   "metadata": {},
   "source": [
    "## Lazy iterator"
   ]
  },
  {
   "cell_type": "markdown",
   "metadata": {},
   "source": [
    "## Finding nice queries"
   ]
  },
  {
   "cell_type": "code",
   "execution_count": 17,
   "metadata": {},
   "outputs": [
    {
     "data": {
      "text/plain": [
       "102"
      ]
     },
     "execution_count": 17,
     "metadata": {},
     "output_type": "execute_result"
    }
   ],
   "source": [
    "len(list(example_data_col.find({\n",
    "    \"borough\": \"Brooklyn\",\n",
    "    \"cuisine\": \"Hamburgers\",    \n",
    "})))"
   ]
  },
  {
   "cell_type": "code",
   "execution_count": null,
   "metadata": {},
   "outputs": [],
   "source": []
  }
 ],
 "metadata": {
  "kernelspec": {
   "display_name": "Python 3",
   "language": "python",
   "name": "python3"
  },
  "language_info": {
   "codemirror_mode": {
    "name": "ipython",
    "version": 3
   },
   "file_extension": ".py",
   "mimetype": "text/x-python",
   "name": "python",
   "nbconvert_exporter": "python",
   "pygments_lexer": "ipython3",
   "version": "3.6.2"
  }
 },
 "nbformat": 4,
 "nbformat_minor": 2
}
